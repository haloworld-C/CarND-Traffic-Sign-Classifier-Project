{
 "cells": [
  {
   "cell_type": "markdown",
   "metadata": {},
   "source": [
    "# Self-Driving Car Engineer Nanodegree\n",
    "\n",
    "## Deep Learning\n",
    "\n",
    "## Project: Build a Traffic Sign Recognition Classifier\n",
    "\n",
    "In this notebook, a template is provided for you to implement your functionality in stages, which is required to successfully complete this project. If additional code is required that cannot be included in the notebook, be sure that the Python code is successfully imported and included in your submission if necessary. \n",
    "\n",
    "> **Note**: Once you have completed all of the code implementations, you need to finalize your work by exporting the iPython Notebook as an HTML document. Before exporting the notebook to html, all of the code cells need to have been run so that reviewers can see the final implementation and output. You can then export the notebook by using the menu above and navigating to  \\n\",\n",
    "    \"**File -> Download as -> HTML (.html)**. Include the finished document along with this notebook as your submission. \n",
    "\n",
    "In addition to implementing code, there is a writeup to complete. The writeup should be completed in a separate file, which can be either a markdown file or a pdf document. There is a [write up template](https://github.com/udacity/CarND-Traffic-Sign-Classifier-Project/blob/master/writeup_template.md) that can be used to guide the writing process. Completing the code template and writeup template will cover all of the [rubric points](https://review.udacity.com/#!/rubrics/481/view) for this project.\n",
    "\n",
    "The [rubric](https://review.udacity.com/#!/rubrics/481/view) contains \"Stand Out Suggestions\" for enhancing the project beyond the minimum requirements. The stand out suggestions are optional. If you decide to pursue the \"stand out suggestions\", you can include the code in this Ipython notebook and also discuss the results in the writeup file.\n",
    "\n",
    "\n",
    ">**Note:** Code and Markdown cells can be executed using the **Shift + Enter** keyboard shortcut. In addition, Markdown cells can be edited by typically double-clicking the cell to enter edit mode."
   ]
  },
  {
   "cell_type": "markdown",
   "metadata": {},
   "source": [
    "---\n",
    "## Step 0: Load The Data"
   ]
  },
  {
   "cell_type": "code",
   "execution_count": 94,
   "metadata": {},
   "outputs": [
    {
     "name": "stdout",
     "output_type": "stream",
     "text": [
      "\n",
      "Image Shape: (34799, 32, 32, 3)\n",
      "\n",
      "Training Set:   34799 samples\n",
      "Validation Set: 4410 samples\n",
      "Test Set:       12630 samples\n",
      "\n",
      "The number of unique classes/labels in the data set is 43 types\n",
      "\n",
      "These type are: {0, 1, 2, 3, 4, 5, 6, 7, 8, 9, 10, 11, 12, 13, 14, 15, 16, 17, 18, 19, 20, 21, 22, 23, 24, 25, 26, 27, 28, 29, 30, 31, 32, 33, 34, 35, 36, 37, 38, 39, 40, 41, 42}\n",
      "\n",
      "41\n"
     ]
    }
   ],
   "source": [
    "# Load pickled data\n",
    "import pickle\n",
    "\n",
    "# TODO: Fill this in based on where you saved the training and testing data\n",
    "\n",
    "training_file =  \"../data/train.p\"\n",
    "validation_file= \"../data/valid.p\"\n",
    "testing_file = \"../data/test.p\"\n",
    "\n",
    "with open(training_file, mode='rb') as f:\n",
    "    train = pickle.load(f)\n",
    "with open(validation_file, mode='rb') as f:\n",
    "    valid = pickle.load(f)\n",
    "with open(testing_file, mode='rb') as f:\n",
    "    test = pickle.load(f)\n",
    "    \n",
    "X_train, y_train = train['features'], train['labels']\n",
    "X_valid, y_valid = valid['features'], valid['labels']\n",
    "X_test, y_test = test['features'], test['labels']\n",
    "\n",
    "assert(len(X_train) == len(y_train))\n",
    "assert(len(X_valid) == len(y_valid))\n",
    "assert(len(X_test) == len(y_test))\n",
    "\n",
    "print()\n",
    "print(\"Image Shape: {}\".format(X_train.shape))\n",
    "print()\n",
    "print(\"Training Set:   {} samples\".format(len(X_train)))\n",
    "print(\"Validation Set: {} samples\".format(len(X_valid)))\n",
    "print(\"Test Set:       {} samples\".format(len(X_test)))\n",
    "\n",
    "y_type = set(y_valid)\n",
    "print()\n",
    "print(\"The number of unique classes/labels in the data set is {} types\".format(len(y_type)))\n",
    "print()\n",
    "print(\"These type are: {}\".format(y_type))\n",
    "print()\n",
    "print(y_valid[0])"
   ]
  },
  {
   "cell_type": "markdown",
   "metadata": {},
   "source": [
    "---\n",
    "\n",
    "## Step 1: Dataset Summary & Exploration\n",
    "\n",
    "The pickled data is a dictionary with 4 key/value pairs:\n",
    "\n",
    "- `'features'` is a 4D array containing raw pixel data of the traffic sign images, (num examples, width, height, channels).\n",
    "- `'labels'` is a 1D array containing the label/class id of the traffic sign. The file `signnames.csv` contains id -> name mappings for each id.\n",
    "- `'sizes'` is a list containing tuples, (width, height) representing the original width and height the image.\n",
    "- `'coords'` is a list containing tuples, (x1, y1, x2, y2) representing coordinates of a bounding box around the sign in the image. **THESE COORDINATES ASSUME THE ORIGINAL IMAGE. THE PICKLED DATA CONTAINS RESIZED VERSIONS (32 by 32) OF THESE IMAGES**\n",
    "\n",
    "Complete the basic data summary below. Use python, numpy and/or pandas methods to calculate the data summary rather than hard coding the results. For example, the [pandas shape method](http://pandas.pydata.org/pandas-docs/stable/generated/pandas.DataFrame.shape.html) might be useful for calculating some of the summary results. "
   ]
  },
  {
   "cell_type": "markdown",
   "metadata": {},
   "source": [
    "### Provide a Basic Summary of the Data Set Using Python, Numpy and/or Pandas"
   ]
  },
  {
   "cell_type": "code",
   "execution_count": 95,
   "metadata": {},
   "outputs": [
    {
     "name": "stdout",
     "output_type": "stream",
     "text": [
      "Number of training examples = 34799\n",
      "Number of testing examples = 12630\n",
      "Image data shape = (32, 32, 3)\n",
      "Number of classes = 43\n",
      "<class 'numpy.ndarray'>\n"
     ]
    }
   ],
   "source": [
    "### Replace each question mark with the appropriate value. \n",
    "### Use python, pandas or numpy methods rather than hard coding the results\n",
    "\n",
    "# TODO: Number of training examples\n",
    "n_train = len(X_train)\n",
    "\n",
    "# TODO: Number of validation examples\n",
    "n_validation = len(X_valid)\n",
    "\n",
    "# TODO: Number of testing examples.\n",
    "n_test = len(X_test)\n",
    "\n",
    "# TODO: What's the shape of an traffic sign image?\n",
    "image_shape = X_train[0].shape\n",
    "\n",
    "# TODO: How many unique classes/labels there are in the dataset.\n",
    "y_type = set(y_valid)\n",
    "n_classes = len(y_type)\n",
    "\n",
    "print(\"Number of training examples =\", n_train)\n",
    "print(\"Number of testing examples =\", n_test)\n",
    "print(\"Image data shape =\", image_shape)\n",
    "print(\"Number of classes =\", n_classes)\n",
    "print(type(X_train))"
   ]
  },
  {
   "cell_type": "markdown",
   "metadata": {},
   "source": [
    "### Include an exploratory visualization of the dataset"
   ]
  },
  {
   "cell_type": "markdown",
   "metadata": {},
   "source": [
    "Visualize the German Traffic Signs Dataset using the pickled file(s). This is open ended, suggestions include: plotting traffic sign images, plotting the count of each sign, etc. \n",
    "\n",
    "The [Matplotlib](http://matplotlib.org/) [examples](http://matplotlib.org/examples/index.html) and [gallery](http://matplotlib.org/gallery.html) pages are a great resource for doing visualizations in Python.\n",
    "\n",
    "**NOTE:** It's recommended you start with something simple first. If you wish to do more, come back to it after you've completed the rest of the sections. It can be interesting to look at the distribution of classes in the training, validation and test set. Is the distribution the same? Are there more examples of some classes than others?"
   ]
  },
  {
   "cell_type": "code",
   "execution_count": 151,
   "metadata": {},
   "outputs": [
    {
     "name": "stdout",
     "output_type": "stream",
     "text": [
      "36\n"
     ]
    },
    {
     "data": {
      "image/png": "[encoded data removed]",
      "text/plain": [
       "<matplotlib.figure.Figure at 0x7fb9ea67eeb8>"
      ]
     },
     "metadata": {
      "needs_background": "light"
     },
     "output_type": "display_data"
    }
   ],
   "source": [
    "### Data exploration visualization code goes here.\n",
    "### Feel free to use as many code cells as needed.\n",
    "import matplotlib.pyplot as plt\n",
    "import matplotlib.image as mpimg\n",
    "import random\n",
    "# Visualizations will be shown in the notebook.\n",
    "%matplotlib inline\n",
    "num = random.randint(0, len(X_valid))\n",
    "#image = mpimg.imread(X_train[num])\n",
    "plt.imshow(X_valid[num])\n",
    "print(y_valid[num])"
   ]
  },
  {
   "cell_type": "code",
   "execution_count": 45,
   "metadata": {},
   "outputs": [
    {
     "name": "stdout",
     "output_type": "stream",
     "text": [
      "[1820   20  -10  740  230  350 1640  710  740  680  200  830  110   80 1310\n",
      " 1460 1640 1010  920 1820 1700 1730 1670 1550 1760  650 1460 1790 1520 1760\n",
      " 1610 1310 1790 1401 1640  920 1670 1820  140 1730 1700 1790 1790]\n"
     ]
    },
    {
     "data": {
      "image/png": "[encoded data removed]",
      "text/plain": [
       "<matplotlib.figure.Figure at 0x7f5e871cf780>"
      ]
     },
     "metadata": {
      "needs_background": "light"
     },
     "output_type": "display_data"
    }
   ],
   "source": [
    "# visualization of each sign in train data set\n",
    "import numpy as np\n",
    "import pandas as pd\n",
    "\n",
    "# Example data\n",
    "data_ix = pd.Index(y_train)\n",
    "data_to_show = pd.value_counts(data_ix)\n",
    "\n",
    "data_to_show = data_to_show.reindex(np.arange(43))\n",
    "completary_num = 2000 - data_to_show\n",
    "print(np.array(completary_num))\n",
    "data_to_show.plot.barh(x='pos', y='num')\n",
    "\n",
    "plt.show()"
   ]
  },
  {
   "cell_type": "code",
   "execution_count": 46,
   "metadata": {},
   "outputs": [
    {
     "name": "stdout",
     "output_type": "stream",
     "text": [
      "27\n",
      "51038\n"
     ]
    }
   ],
   "source": [
    "# compelement data\n",
    "## first approach --add gausse noise\n",
    "## 整体思路：从已有图片中随机产生一张图片，然后随机应用一种数据增强的方法\n",
    "\n",
    "# 添加椒盐噪声，prob:噪声比例 \n",
    "import random\n",
    "import cv2\n",
    "# method 1\n",
    "def sp_noiseImg(img_file1,prob):\n",
    "    image = cv2.cvtColor(img_file1, cv2.COLOR_RGB2GRAY)\n",
    "    #x_train = cv2.cvtColor(X_train[num], cv2.COLOR_RGB2GRAY)\n",
    "    output = np.zeros(image.shape,np.uint8)\n",
    "    thres = 1 - prob \n",
    "    for i in range(image.shape[0]):\n",
    "        for j in range(image.shape[1]):\n",
    "            rdn = random.random()\n",
    "            if rdn < prob:\n",
    "                output[i][j] = 0\n",
    "            elif rdn > thres:\n",
    "                output[i][j] = 255\n",
    "            else:\n",
    "                output[i][j] = image[i][j]\n",
    "    return output\n",
    "x_train_com = []\n",
    "y_train_com = []\n",
    "train_data = pd.Series(y_train).sort_values()\n",
    "# num_0 = train_data[train_data==0]\n",
    "# print(num_0)\n",
    "# print(completary_num)\n",
    "for i,num in enumerate(completary_num):\n",
    "    if num > 0:\n",
    "#  print(num)\n",
    "        train_i = train_data[train_data == i]\n",
    "        num_len = len(train_i)\n",
    "        for j in range(num):\n",
    "            num_pick = random.randint(0,num_len)\n",
    "            num_in_X_train = train_i[num_pick:num_pick+1].index\n",
    "            if len(X_train[num_in_X_train])>0:\n",
    "                x_train_com.append(sp_noiseImg(X_train[num_in_X_train][0], 0.03).reshape(32,32,1))\n",
    "                y_train_com.append(i)\n",
    "c_len = len(x_train_com)\n",
    "c_pick = random.randint(0,c_len)\n",
    "# plt.imshow(x_train_com[c_pick])\n",
    "print(y_train_com[c_pick])\n",
    "print(c_len)\n",
    "\n",
    "# saved the processed data!\n",
    "# Avoid doing the same thing and save time!\n",
    "import pickle\n",
    "data = {}\n",
    "data['features'] = x_train_com\n",
    "data['labels'] = y_train_com\n",
    "\n",
    "comp = open('generated.p','wb')\n",
    "pickle.dump(data, comp, -1)\n",
    "comp.close()\n",
    "    "
   ]
  },
  {
   "cell_type": "code",
   "execution_count": 36,
   "metadata": {},
   "outputs": [
    {
     "name": "stdout",
     "output_type": "stream",
     "text": [
      "[ 1806.    20.    nan   738.   230.   350.  1632.   710.   740.   679.\n",
      "   200.   830.   110.    80.  1310.  1458.  1637.  1010.   920.  1812.\n",
      "  1691.  1726.  1665.  1548.  1753.   650.  1456.  1783.  1519.  1757.\n",
      "  1607.  1307.  1780.  1401.  1630.   919.  1667.  1810.   140.  1727.\n",
      "  1695.  1780.  1783.]\n",
      "[1820   20  -10  740  230  350 1640  710  740  680  200  830  110   80 1310\n",
      " 1460 1640 1010  920 1820 1700 1730 1670 1550 1760  650 1460 1790 1520 1760\n",
      " 1610 1310 1790 1401 1640  920 1670 1820  140 1730 1700 1790 1790]\n"
     ]
    }
   ],
   "source": [
    "# show the comlementary result\n",
    "data_c = pd.Index(y_train_com)\n",
    "data_c_show = pd.value_counts(data_c)\n",
    "data_c_show = data_c_show.reindex(np.arange(43))\n",
    "print(np.array(data_c_show))\n",
    "print(np.array(completary_num))\n"
   ]
  },
  {
   "cell_type": "code",
   "execution_count": 7,
   "metadata": {},
   "outputs": [
    {
     "data": {
      "image/png": "[encoded data removed]",
      "text/plain": [
       "<matplotlib.figure.Figure at 0x7f15d4f0a668>"
      ]
     },
     "metadata": {},
     "output_type": "display_data"
    }
   ],
   "source": [
    "# visualization of each sign in train valid set\n",
    "import numpy as np\n",
    "import pandas as pd\n",
    "plt.rcdefaults()\n",
    "fig, ax = plt.subplots()\n",
    "\n",
    "# Example data\n",
    "data_ix = pd.Index(y_valid)\n",
    "data_to_show = pd.value_counts(data_ix)\n",
    "\n",
    "data_to_show = data_to_show.reindex(np.arange(43))\n",
    "#print(data_to_show)\n",
    "data_to_show.plot.barh(x='pos', y='num')\n",
    "\n",
    "\n",
    "plt.show()"
   ]
  },
  {
   "cell_type": "code",
   "execution_count": 6,
   "metadata": {},
   "outputs": [
    {
     "data": {
      "image/png": "[encoded data removed]",
      "text/plain": [
       "<matplotlib.figure.Figure at 0x7ff22b87c668>"
      ]
     },
     "metadata": {},
     "output_type": "display_data"
    }
   ],
   "source": [
    "# visualization of each sign in train test set\n",
    "import numpy as np\n",
    "import pandas as pd\n",
    "plt.rcdefaults()\n",
    "fig, ax = plt.subplots()\n",
    "\n",
    "# Example data\n",
    "data_ix = pd.Index(y_test)\n",
    "data_to_show = pd.value_counts(data_ix)\n",
    "\n",
    "data_to_show = data_to_show.reindex(np.arange(43))\n",
    "# print(data_to_show)\n",
    "data_to_show.plot.barh(x='pos', y='num')\n",
    "\n",
    "plt.show()"
   ]
  },
  {
   "cell_type": "markdown",
   "metadata": {},
   "source": [
    "----\n",
    "\n",
    "## Step 2: Design and Test a Model Architecture\n",
    "\n",
    "Design and implement a deep learning model that learns to recognize traffic signs. Train and test your model on the [German Traffic Sign Dataset](http://benchmark.ini.rub.de/?section=gtsrb&subsection=dataset).\n",
    "\n",
    "The LeNet-5 implementation shown in the [classroom](https://classroom.udacity.com/nanodegrees/nd013/parts/fbf77062-5703-404e-b60c-95b78b2f3f9e/modules/6df7ae49-c61c-4bb2-a23e-6527e69209ec/lessons/601ae704-1035-4287-8b11-e2c2716217ad/concepts/d4aca031-508f-4e0b-b493-e7b706120f81) at the end of the CNN lesson is a solid starting point. You'll have to change the number of classes and possibly the preprocessing, but aside from that it's plug and play! \n",
    "\n",
    "With the LeNet-5 solution from the lecture, you should expect a validation set accuracy of about 0.89. To meet specifications, the validation set accuracy will need to be at least 0.93. It is possible to get an even higher accuracy, but 0.93 is the minimum for a successful project submission. \n",
    "\n",
    "There are various aspects to consider when thinking about this problem:\n",
    "\n",
    "- Neural network architecture (is the network over or underfitting?)\n",
    "- Play around preprocessing techniques (normalization, rgb to grayscale, etc)\n",
    "- Number of examples per label (some have more than others).\n",
    "- Generate fake data.\n",
    "\n",
    "Here is an example of a [published baseline model on this problem](http://yann.lecun.com/exdb/publis/pdf/sermanet-ijcnn-11.pdf). It's not required to be familiar with the approach used in the paper but, it's good practice to try to read papers like these."
   ]
  },
  {
   "cell_type": "markdown",
   "metadata": {},
   "source": [
    "### Pre-process the Data Set (normalization, grayscale, etc.)"
   ]
  },
  {
   "cell_type": "markdown",
   "metadata": {},
   "source": [
    "Minimally, the image data should be normalized so that the data has mean zero and equal variance. For image data, `(pixel - 128)/ 128` is a quick way to approximately normalize the data and can be used in this project. \n",
    "\n",
    "Other pre-processing steps are optional. You can try different techniques to see if it improves performance. \n",
    "\n",
    "Use the code cell (or multiple code cells, if necessary) to implement the first step of your project."
   ]
  },
  {
   "cell_type": "code",
   "execution_count": 14,
   "metadata": {},
   "outputs": [],
   "source": [
    "# shuttle the input data\n",
    "from sklearn.utils import shuffle\n",
    "# X_train, y_train = shuffle(X_train, y_train)"
   ]
  },
  {
   "cell_type": "code",
   "execution_count": 15,
   "metadata": {},
   "outputs": [],
   "source": [
    "# load the generated data\n",
    "import pickle\n",
    "from sklearn.utils import shuffle\n",
    "with open('generated.p', mode='rb') as f:\n",
    "    train_f = pickle.load(f)\n",
    "\n",
    "x_train_com, y_train_com = train_f['features'], train_f['labels']\n",
    "\n",
    "training_file =  \"../data/train.p\"\n",
    "validation_file= \"../data/valid.p\"\n",
    "testing_file = \"../data/test.p\"\n",
    "\n",
    "with open(training_file, mode='rb') as f:\n",
    "    train = pickle.load(f)\n",
    "with open(validation_file, mode='rb') as f:\n",
    "    valid = pickle.load(f)\n",
    "with open(testing_file, mode='rb') as f:\n",
    "    test = pickle.load(f)\n",
    "X_train, y_train = train['features'], train['labels']\n",
    "X_valid, y_valid = valid['features'], valid['labels']\n",
    "X_test, y_test = test['features'], test['labels']\n"
   ]
  },
  {
   "cell_type": "code",
   "execution_count": 16,
   "metadata": {},
   "outputs": [],
   "source": [
    "import cv2\n",
    "import numpy as np\n",
    "# transfer images to grayscale\n",
    "X_train_gray = []\n",
    "for x_train in X_train:\n",
    "    x_train = cv2.cvtColor(x_train, cv2.COLOR_RGB2GRAY)\n",
    "    X_train_gray.append(x_train.reshape(32,32,1))\n",
    "\n",
    "\n",
    "X_valid_gray = []\n",
    "for x_valid in X_valid:\n",
    "    x_valid = cv2.cvtColor(x_valid, cv2.COLOR_RGB2GRAY)\n",
    "    X_valid_gray.append(x_valid.reshape(32,32,1))\n",
    "# X_valid_gray = np.array(X_valid_gray)\n",
    "\n",
    "# print(X_train_gray[0])\n",
    "# print(X_train[0])"
   ]
  },
  {
   "cell_type": "code",
   "execution_count": 17,
   "metadata": {},
   "outputs": [
    {
     "name": "stdout",
     "output_type": "stream",
     "text": [
      "34799\n",
      "51038\n",
      "51038\n",
      "34799\n",
      "85837\n"
     ]
    }
   ],
   "source": [
    "### Preprocess the data here. It is required to normalize the data. Other preprocessing steps could include \n",
    "### converting to grayscale, etc.\n",
    "### Feel free to use as many code cells as needed.\n",
    "import numpy as np\n",
    "print(len(X_train_gray))\n",
    "print(len(x_train_com))\n",
    "X_train_combined = X_train_gray + x_train_com\n",
    "y_train_combined = []\n",
    "y_train_combined = list(y_train) + y_train_com\n",
    "x_input = (np.float32(X_train_combined)-128) / 128\n",
    "x_valid = (np.float32(X_valid_gray)-128) / 128\n",
    "print(len(y_train_com))\n",
    "print(len(y_train))\n",
    "print(len(y_train_combined))\n",
    "## Think: Do we need the grayscale here, it seems that all labels not related to color"
   ]
  },
  {
   "cell_type": "code",
   "execution_count": 24,
   "metadata": {},
   "outputs": [],
   "source": []
  },
  {
   "cell_type": "code",
   "execution_count": 5,
   "metadata": {},
   "outputs": [
    {
     "name": "stdout",
     "output_type": "stream",
     "text": [
      "[  4   0 -10   1   1   0   4   1   2   2   0   0   0   0   5   4   6   1\n",
      "   0  17   5   7   5   2   7   1   3   9   4   6   2   1  10   4  11   0\n",
      "   5  13   0   6   6  12   6]\n"
     ]
    },
    {
     "data": {
      "text/plain": [
       "<matplotlib.figure.Figure at 0x7fa3dfb85978>"
      ]
     },
     "metadata": {},
     "output_type": "display_data"
    }
   ],
   "source": [
    "# visualization of each sign in train data set\n",
    "import numpy as np\n",
    "import pandas as pd\n",
    "import matplotlib.pyplot as plt\n",
    "\n",
    "# Example data\n",
    "data_ix = pd.Index(y_train_combined)\n",
    "data_to_show = pd.value_counts(data_ix)\n",
    "\n",
    "data_to_show = data_to_show.reindex(np.arange(43))\n",
    "completary_num = 2000 - data_to_show\n",
    "print(np.array(completary_num))\n",
    "data_to_show.plot.barh(x='pos', y='num')\n",
    "\n",
    "plt.show()"
   ]
  },
  {
   "cell_type": "code",
   "execution_count": 5,
   "metadata": {},
   "outputs": [],
   "source": [
    "# setup hyper_parameters and tensor flow\n",
    "import tensorflow as tf\n",
    "from tensorflow.contrib.layers import flatten\n",
    "\n",
    "EPOCHS = 100\n",
    "BATCH_SIZE = 256"
   ]
  },
  {
   "cell_type": "markdown",
   "metadata": {},
   "source": [
    "### Model Architecture"
   ]
  },
  {
   "cell_type": "code",
   "execution_count": 6,
   "metadata": {},
   "outputs": [],
   "source": [
    "### Define your architecture here.\n",
    "### Feel free to use as many code cells as needed.\n",
    "### TO DO: set right demension\n",
    "def LeNet(x, keep_prob, is_train):    \n",
    "    # Arguments used for tf.truncated_normal, randomly defines variables for the weights and biases for each layer\n",
    "    mu = 0\n",
    "    sigma = 0.1\n",
    "    weights = {\n",
    "        'wc1': tf.Variable(tf.truncated_normal([5, 5, 1, 6], mu, sigma)),\n",
    "        'wc2': tf.Variable(tf.truncated_normal([5, 5, 6, 16], mu, sigma)),\n",
    "        'wh1': tf.Variable(tf.truncated_normal([400,120], mu, sigma)),\n",
    "        'wh2': tf.Variable(tf.truncated_normal([120,84], mu, sigma)),\n",
    "        'w_output': tf.Variable(tf.truncated_normal([84,43], mu, sigma))\n",
    "    }\n",
    "    biases = {\n",
    "        'bc1': tf.Variable(tf.zeros(6)),\n",
    "        'bc2': tf.Variable(tf.zeros(16)),\n",
    "        'bh1': tf.Variable(tf.zeros(120)),\n",
    "        'bh2': tf.Variable(tf.zeros(84)),\n",
    "        'b_output': tf.Variable(tf.zeros(43))        \n",
    "    }\n",
    "    # TODO: Layer 1: Convolutional. Input = 32x32x1. Output = 28x28x6.\n",
    "    # Apply Convolution\n",
    "    conv_layer1 = tf.nn.conv2d(x, weights['wc1'], strides=[1, 1, 1, 1], padding='VALID')\n",
    "    # Add bias\n",
    "    conv_layer1 = tf.nn.bias_add(conv_layer1, biases['bc1'])\n",
    "    \n",
    "    \n",
    "    # TODO: Activation.\n",
    "    conv_layer1 = tf.nn.relu(conv_layer1)\n",
    "    \n",
    "    conv_layer1 = tf.layers.batch_normalization(conv_layer1, training=is_train)\n",
    "    # TODO: Pooling. Input = 28x28x6. Output = 14x14x6.\n",
    "    conv_layer1 = tf.nn.max_pool(conv_layer1, ksize=[1, 2, 2, 1],\\\n",
    "                                strides=[1, 2, 2, 1], padding='SAME')\n",
    "    \n",
    "    # TODO: Layer 2: Convolutional. Output = 10x10x16.\n",
    "    # op basicly same as layer1\n",
    "    conv_layer2 = tf.nn.conv2d(conv_layer1, weights['wc2'], \\\n",
    "                               strides=[1, 1, 1, 1], padding='VALID')\n",
    "    # add bias\n",
    "    conv_layer2 = tf.nn.bias_add(conv_layer2, biases['bc2'])\n",
    "    \n",
    "    \n",
    "    # TODO: Activation.\n",
    "    conv_layer2 = tf.nn.relu(conv_layer2)\n",
    "    \n",
    "    conv_layer2 = tf.layers.batch_normalization(conv_layer2, training=is_train)\n",
    "    # TODO: Pooling. Input = 10x10x16. Output = 5x5x16.\n",
    "    conv_layer2 = tf.nn.max_pool(conv_layer2, ksize=[1, 2, 2, 1],\\\n",
    "                                strides=[1, 2, 2, 1], padding='SAME')\n",
    "    \n",
    "    # TODO: Flatten. Input = 5x5x16. Output = 400.\n",
    "    full_input = tf.contrib.layers.flatten(conv_layer2)\n",
    "    # TODO: Layer 3: Fully Connected. Input = 400. Output = 120.\n",
    "    hidden_layer1 = tf.add(tf.matmul(full_input, weights['wh1']), biases['bh1'])\n",
    "    # TODO: Activation.\n",
    "    # TO DO:是否要随机丢弃一半\n",
    "    \n",
    "    hidden_layer1 = tf.nn.relu(hidden_layer1)\n",
    "    hidden_layer1 = tf.nn.dropout(hidden_layer1, keep_prob)\n",
    "\n",
    "    # TODO: Layer 4: Fully Connected. Input = 120. Output = 84.\n",
    "    hidden_layer2 = tf.add(tf.matmul(hidden_layer1, weights['wh2']), biases['bh2'])\n",
    "    # TODO: Activation.\n",
    "    # Todo: 是否要随机丢弃一半\n",
    "#     keep_prob2 = 0\n",
    "    hidden_layer2 = tf.nn.relu(hidden_layer2)\n",
    "    hidden_layer2 = tf.nn.dropout(hidden_layer2, keep_prob)\n",
    "    # TODO: Layer 5: Fully Connected. Input = 84. Output = 43.\n",
    "    logits = tf.add(tf.matmul(hidden_layer2, weights['w_output']), biases['b_output'])\n",
    "#     logits = tf.nn.softmax(logits)\n",
    "    \n",
    "    return logits"
   ]
  },
  {
   "cell_type": "markdown",
   "metadata": {},
   "source": [
    "### Train, Validate and Test the Model"
   ]
  },
  {
   "cell_type": "markdown",
   "metadata": {},
   "source": [
    "A validation set can be used to assess how well the model is performing. A low accuracy on the training and validation\n",
    "sets imply underfitting. A high accuracy on the training set but low accuracy on the validation set implies overfitting."
   ]
  },
  {
   "cell_type": "code",
   "execution_count": 7,
   "metadata": {},
   "outputs": [],
   "source": [
    "### Train your model here.\n",
    "### Calculate and report the accuracy on the training and validation set.\n",
    "### Once a final model architecture is selected, \n",
    "### the accuracy on the test set should be calculated and reported as well.\n",
    "### Feel free to use as many code cells as needed.\n",
    "\n",
    "# set features and labels\n",
    "x = tf.placeholder(tf.float32, (None, 32, 32, 1))\n",
    "y = tf.placeholder(tf.int32, (None))\n",
    "keep_prob = tf.placeholder(tf.float32)\n",
    "is_train = tf.placeholder(tf.bool, name=\"is_train\")\n",
    "one_hot_y = tf.one_hot(y, 43)"
   ]
  },
  {
   "cell_type": "code",
   "execution_count": 8,
   "metadata": {},
   "outputs": [],
   "source": [
    "# Training Pipeline\n",
    "rate = 0.0008\n",
    "logits = LeNet(x, keep_prob, is_train)\n",
    "cross_entropy = tf.nn.softmax_cross_entropy_with_logits(labels=one_hot_y, logits=logits)\n",
    "loss_operation = tf.reduce_mean(cross_entropy)\n",
    "optimizer = tf.train.AdamOptimizer(learning_rate = rate)\n",
    "update_ops = tf.get_collection(tf.GraphKeys.UPDATE_OPS)\n",
    "with tf.control_dependencies(update_ops):   \n",
    "    training_operation = optimizer.minimize(loss_operation)"
   ]
  },
  {
   "cell_type": "code",
   "execution_count": 9,
   "metadata": {},
   "outputs": [],
   "source": [
    "# Model Evaluation\n",
    "correct_prediction = tf.equal(tf.argmax(logits, 1), tf.argmax(one_hot_y, 1))\n",
    "accuracy_operation = tf.reduce_mean(tf.cast(correct_prediction, tf.float32))\n",
    "saver = tf.train.Saver()\n",
    "\n",
    "def evaluate(X_data, y_data):\n",
    "    num_examples = len(X_data)\n",
    "    total_accuracy = 0\n",
    "    sess = tf.get_default_session()\n",
    "    for offset in range(0, num_examples, BATCH_SIZE):\n",
    "        batch_x, batch_y = X_data[offset:offset+BATCH_SIZE], y_data[offset:offset+BATCH_SIZE]\n",
    "        accuracy = sess.run(accuracy_operation, feed_dict={x: batch_x, y: batch_y, keep_prob:1.0, is_train:False})\n",
    "        total_accuracy += (accuracy * len(batch_x))\n",
    "    return total_accuracy / num_examples"
   ]
  },
  {
   "cell_type": "code",
   "execution_count": 10,
   "metadata": {},
   "outputs": [],
   "source": [
    "import random\n",
    "'''\n",
    "定义旋转函数：\n",
    "angle是逆时针旋转的角度\n",
    "crop是个布尔值，表明是否要裁剪去除黑边\n",
    "'''\n",
    "def rotate_image(img, angle, crop):\n",
    "    h, w = img.shape[:2]\n",
    "# 旋转角度的周期是360°\n",
    "    angle %= 360\n",
    "\n",
    "# 用OpenCV内置函数计算仿射矩阵\n",
    "    M_rotate = cv2.getRotationMatrix2D((w/2, h/2), angle, 1)\n",
    "# 得到旋转后的图像\n",
    "    img_rotated = cv2.warpAffine(img, M_rotate, (w, h))\n",
    "\n",
    "# 如果需要裁剪去除黑边\n",
    "    if crop:\n",
    "        angle_crop = angle % 180             # 对于裁剪角度的等效周期是180°\n",
    "        if angle_crop > 90:                        # 并且关于90°对称\n",
    "            angle_crop = 180 - angle_crop\n",
    "            \n",
    "        theta = angle_crop * np.pi / 180.0    # 转化角度为弧度\n",
    "        hw_ratio = float(h) / float(w)     # 计算高宽比\n",
    "\n",
    "\n",
    "        tan_theta = np.tan(theta)                   # 计算裁剪边长系数的分子项\n",
    "        numerator = np.cos(theta) + np.sin(theta) * tan_theta\n",
    "\n",
    "\n",
    "        r = hw_ratio if h > w else 1 / hw_ratio# 计算分母项中和宽高比相关的项\n",
    "        denominator = r * tan_theta + 1# 计算分母项\n",
    "\n",
    "        crop_mult = numerator / denominator# 计算最终的边长系数\n",
    "        w_crop = int(round(crop_mult*w))# 得到裁剪区域\n",
    "        h_crop = int(round(crop_mult*h))\n",
    "        x0 = int((w-w_crop)/2)\n",
    "        y0 = int((h-h_crop)/2)\n",
    "        img_rotated = crop_image(img_rotated, x0, y0, w_crop, h_crop)\n",
    "    return img_rotated\n",
    "\n",
    "'''\n",
    "随机旋转\n",
    "angle_vari是旋转角度的范围[-angle_vari, angle_vari)\n",
    "p_crop是要进行去黑边裁剪的比例\n",
    "'''\n",
    "def random_rotate(img, angle_vari, p_crop):\n",
    "    angle = np.random.uniform(-angle_vari, angle_vari)\n",
    "    crop = False if np.random.random() > p_crop else True\n",
    "    return rotate_image(img, angle, crop)\n",
    "# method 1\n",
    "def rotate_batch(img_batch):\n",
    "    batch = []\n",
    "    for image in img_batch:        \n",
    "        gen = random_rotate(image, 15,0)\n",
    "        batch.append(gen.reshape(32,32,1))\n",
    "    return batch\n",
    "#method 2\n",
    "def flip_batch(img_batch):\n",
    "    batch = []\n",
    "    for image in img_batch:\n",
    "        gen = np.fliplr(image)\n",
    "        batch.append(gen)\n",
    "    return batch\n",
    "def moving_batch(img_batch):\n",
    "    batch = []\n",
    "    a = random.randint(0, 5)\n",
    "    size = img_batch[0].shape\n",
    "#     print(size)\n",
    "    index = random.randint(0, 3)\n",
    "    for image in img_batch:\n",
    "        if index == 0:\n",
    "            img = np.concatenate((image[:, a:], image[:, :a]), axis=1)  #left\n",
    "        if index == 1:\n",
    "            img = np.concatenate((image[:, size[1] - a:], image[:, :size[1] - a]), axis=1)  # right\n",
    "        if index == 2:\n",
    "            img = np.concatenate((image[a:, :], image[:a, :]), axis=0)   #up\n",
    "        if index == 3:\n",
    "            img = np.concatenate((image[size[0] - a:, :], image[:size[0] -a, :]), axis=0)   #down\n",
    "        batch.append(img)\n",
    "    return batch\n",
    "        \n",
    "def process_batch(batch):  \n",
    "    index = random.randint(0, 1)\n",
    "    if index == 0:\n",
    "        batch = rotate_batch(batch)\n",
    "    if index ==1:\n",
    "        batch = moving_batch(batch)\n",
    "#     batch = flip_batch(batch)\n",
    "    \n",
    "    return batch\n"
   ]
  },
  {
   "cell_type": "code",
   "execution_count": 22,
   "metadata": {},
   "outputs": [
    {
     "data": {
      "text/plain": [
       "<matplotlib.figure.Figure at 0x7f5381fb5f60>"
      ]
     },
     "metadata": {},
     "output_type": "display_data"
    }
   ],
   "source": [
    "#test moving\n",
    "import matplotlib.pyplot as plt\n",
    "img = X_train_gray[0]\n",
    "mv = moving_batch(img)\n",
    "mv = np.array(mv).reshape(32,32)\n",
    "# print(mv.size)\n",
    "plt.imshow(mv)\n",
    "plt.show()"
   ]
  },
  {
   "cell_type": "code",
   "execution_count": 11,
   "metadata": {},
   "outputs": [
    {
     "name": "stdout",
     "output_type": "stream",
     "text": [
      "样本总量：85837\n",
      "Training...\n",
      "\n",
      "EPOCH 1 ...\n",
      "Validation Accuracy = 0.438\n",
      "Training Accuracy = 0.455\n",
      "\n",
      "EPOCH 2 ...\n",
      "Validation Accuracy = 0.666\n",
      "Training Accuracy = 0.597\n",
      "\n",
      "EPOCH 3 ...\n",
      "Validation Accuracy = 0.747\n",
      "Training Accuracy = 0.727\n",
      "\n",
      "EPOCH 4 ...\n",
      "Validation Accuracy = 0.827\n",
      "Training Accuracy = 0.390\n",
      "\n",
      "EPOCH 5 ...\n",
      "Validation Accuracy = 0.832\n",
      "Training Accuracy = 0.818\n",
      "\n",
      "EPOCH 6 ...\n",
      "Validation Accuracy = 0.856\n",
      "Training Accuracy = 0.922\n",
      "\n",
      "EPOCH 7 ...\n",
      "Validation Accuracy = 0.880\n",
      "Training Accuracy = 0.805\n",
      "\n",
      "EPOCH 8 ...\n",
      "Validation Accuracy = 0.891\n",
      "Training Accuracy = 0.805\n",
      "\n",
      "EPOCH 9 ...\n",
      "Validation Accuracy = 0.889\n",
      "Training Accuracy = 0.688\n",
      "\n",
      "EPOCH 10 ...\n",
      "Validation Accuracy = 0.899\n",
      "Training Accuracy = 0.792\n",
      "\n",
      "EPOCH 11 ...\n",
      "Validation Accuracy = 0.912\n",
      "Training Accuracy = 0.883\n",
      "\n",
      "EPOCH 12 ...\n",
      "Validation Accuracy = 0.895\n",
      "Training Accuracy = 0.909\n",
      "\n",
      "EPOCH 13 ...\n",
      "Validation Accuracy = 0.918\n",
      "Training Accuracy = 0.922\n",
      "\n",
      "EPOCH 14 ...\n",
      "Validation Accuracy = 0.918\n",
      "Training Accuracy = 0.896\n",
      "\n",
      "EPOCH 15 ...\n",
      "Validation Accuracy = 0.919\n",
      "Training Accuracy = 0.779\n",
      "\n",
      "EPOCH 16 ...\n",
      "Validation Accuracy = 0.921\n",
      "Training Accuracy = 0.688\n",
      "\n",
      "EPOCH 17 ...\n",
      "Validation Accuracy = 0.921\n",
      "Training Accuracy = 0.961\n",
      "\n",
      "EPOCH 18 ...\n",
      "Validation Accuracy = 0.929\n",
      "Training Accuracy = 0.948\n",
      "\n",
      "EPOCH 19 ...\n",
      "Validation Accuracy = 0.930\n",
      "Training Accuracy = 0.935\n",
      "\n",
      "EPOCH 20 ...\n",
      "Validation Accuracy = 0.929\n",
      "Training Accuracy = 0.922\n",
      "\n",
      "EPOCH 21 ...\n",
      "Validation Accuracy = 0.929\n",
      "Training Accuracy = 0.753\n",
      "\n",
      "EPOCH 22 ...\n",
      "Validation Accuracy = 0.946\n",
      "Training Accuracy = 0.896\n",
      "\n",
      "EPOCH 23 ...\n",
      "Validation Accuracy = 0.930\n",
      "Training Accuracy = 0.597\n",
      "\n",
      "EPOCH 24 ...\n",
      "Validation Accuracy = 0.933\n",
      "Training Accuracy = 0.948\n",
      "\n",
      "EPOCH 25 ...\n",
      "Validation Accuracy = 0.932\n",
      "Training Accuracy = 0.792\n",
      "\n",
      "EPOCH 26 ...\n",
      "Validation Accuracy = 0.933\n",
      "Training Accuracy = 0.805\n",
      "\n",
      "EPOCH 27 ...\n",
      "Validation Accuracy = 0.930\n",
      "Training Accuracy = 0.922\n",
      "\n",
      "EPOCH 28 ...\n",
      "Validation Accuracy = 0.924\n",
      "Training Accuracy = 0.649\n",
      "\n",
      "EPOCH 29 ...\n",
      "Validation Accuracy = 0.933\n",
      "Training Accuracy = 0.714\n",
      "\n",
      "EPOCH 30 ...\n",
      "Validation Accuracy = 0.929\n",
      "Training Accuracy = 0.922\n",
      "\n",
      "EPOCH 31 ...\n",
      "Validation Accuracy = 0.936\n",
      "Training Accuracy = 0.974\n",
      "\n",
      "EPOCH 32 ...\n",
      "Validation Accuracy = 0.939\n",
      "Training Accuracy = 0.818\n",
      "\n",
      "EPOCH 33 ...\n",
      "Validation Accuracy = 0.935\n",
      "Training Accuracy = 0.870\n",
      "\n",
      "EPOCH 34 ...\n",
      "Validation Accuracy = 0.947\n",
      "Training Accuracy = 0.948\n",
      "\n",
      "EPOCH 35 ...\n",
      "Validation Accuracy = 0.930\n",
      "Training Accuracy = 0.974\n",
      "\n",
      "EPOCH 36 ...\n",
      "Validation Accuracy = 0.932\n",
      "Training Accuracy = 0.883\n",
      "\n",
      "EPOCH 37 ...\n",
      "Validation Accuracy = 0.938\n",
      "Training Accuracy = 0.883\n",
      "\n",
      "EPOCH 38 ...\n",
      "Validation Accuracy = 0.939\n",
      "Training Accuracy = 0.974\n",
      "\n",
      "EPOCH 39 ...\n",
      "Validation Accuracy = 0.932\n",
      "Training Accuracy = 0.948\n",
      "\n",
      "EPOCH 40 ...\n",
      "Validation Accuracy = 0.932\n",
      "Training Accuracy = 0.831\n",
      "\n",
      "EPOCH 41 ...\n",
      "Validation Accuracy = 0.924\n",
      "Training Accuracy = 1.000\n",
      "\n",
      "EPOCH 42 ...\n",
      "Validation Accuracy = 0.944\n",
      "Training Accuracy = 0.909\n",
      "\n",
      "EPOCH 43 ...\n",
      "Validation Accuracy = 0.950\n",
      "Training Accuracy = 0.831\n",
      "\n",
      "EPOCH 44 ...\n",
      "Validation Accuracy = 0.932\n",
      "Training Accuracy = 0.961\n",
      "\n",
      "EPOCH 45 ...\n",
      "Validation Accuracy = 0.943\n",
      "Training Accuracy = 0.896\n",
      "\n",
      "EPOCH 46 ...\n",
      "Validation Accuracy = 0.942\n",
      "Training Accuracy = 0.896\n",
      "\n",
      "EPOCH 47 ...\n",
      "Validation Accuracy = 0.937\n",
      "Training Accuracy = 0.961\n",
      "\n",
      "EPOCH 48 ...\n",
      "Validation Accuracy = 0.943\n",
      "Training Accuracy = 0.922\n",
      "\n",
      "EPOCH 49 ...\n",
      "Validation Accuracy = 0.944\n",
      "Training Accuracy = 0.909\n",
      "\n",
      "EPOCH 50 ...\n",
      "Validation Accuracy = 0.938\n",
      "Training Accuracy = 0.844\n",
      "\n",
      "EPOCH 51 ...\n",
      "Validation Accuracy = 0.937\n",
      "Training Accuracy = 0.948\n",
      "\n",
      "EPOCH 52 ...\n",
      "Validation Accuracy = 0.939\n",
      "Training Accuracy = 0.909\n",
      "\n",
      "EPOCH 53 ...\n",
      "Validation Accuracy = 0.942\n",
      "Training Accuracy = 0.805\n",
      "\n",
      "EPOCH 54 ...\n",
      "Validation Accuracy = 0.945\n",
      "Training Accuracy = 0.818\n",
      "\n",
      "EPOCH 55 ...\n",
      "Validation Accuracy = 0.939\n",
      "Training Accuracy = 0.649\n",
      "\n",
      "EPOCH 56 ...\n",
      "Validation Accuracy = 0.947\n",
      "Training Accuracy = 0.740\n",
      "\n",
      "EPOCH 57 ...\n",
      "Validation Accuracy = 0.940\n",
      "Training Accuracy = 0.922\n",
      "\n",
      "EPOCH 58 ...\n",
      "Validation Accuracy = 0.934\n",
      "Training Accuracy = 0.961\n",
      "\n",
      "EPOCH 59 ...\n",
      "Validation Accuracy = 0.938\n",
      "Training Accuracy = 0.727\n",
      "\n",
      "EPOCH 60 ...\n",
      "Validation Accuracy = 0.953\n",
      "Training Accuracy = 0.935\n",
      "\n",
      "EPOCH 61 ...\n",
      "Validation Accuracy = 0.950\n",
      "Training Accuracy = 0.896\n",
      "\n",
      "EPOCH 62 ...\n",
      "Validation Accuracy = 0.946\n",
      "Training Accuracy = 0.922\n",
      "\n",
      "EPOCH 63 ...\n",
      "Validation Accuracy = 0.944\n",
      "Training Accuracy = 0.922\n",
      "\n",
      "EPOCH 64 ...\n",
      "Validation Accuracy = 0.953\n",
      "Training Accuracy = 0.896\n",
      "\n",
      "EPOCH 65 ...\n",
      "Validation Accuracy = 0.945\n",
      "Training Accuracy = 0.961\n",
      "\n",
      "EPOCH 66 ...\n",
      "Validation Accuracy = 0.935\n",
      "Training Accuracy = 0.948\n",
      "\n",
      "EPOCH 67 ...\n",
      "Validation Accuracy = 0.931\n",
      "Training Accuracy = 0.935\n",
      "\n",
      "EPOCH 68 ...\n",
      "Validation Accuracy = 0.939\n",
      "Training Accuracy = 0.961\n",
      "\n",
      "EPOCH 69 ...\n",
      "Validation Accuracy = 0.943\n",
      "Training Accuracy = 0.974\n",
      "\n",
      "EPOCH 70 ...\n",
      "Validation Accuracy = 0.947\n",
      "Training Accuracy = 0.948\n",
      "\n",
      "EPOCH 71 ...\n",
      "Validation Accuracy = 0.944\n",
      "Training Accuracy = 0.623\n",
      "\n",
      "EPOCH 72 ...\n",
      "Validation Accuracy = 0.941\n",
      "Training Accuracy = 0.935\n",
      "\n",
      "EPOCH 73 ...\n",
      "Validation Accuracy = 0.945\n",
      "Training Accuracy = 0.818\n",
      "\n",
      "EPOCH 74 ...\n",
      "Validation Accuracy = 0.933\n",
      "Training Accuracy = 0.935\n",
      "\n",
      "EPOCH 75 ...\n",
      "Validation Accuracy = 0.946\n",
      "Training Accuracy = 0.974\n",
      "\n",
      "EPOCH 76 ...\n",
      "Validation Accuracy = 0.939\n",
      "Training Accuracy = 0.961\n",
      "\n",
      "EPOCH 77 ...\n",
      "Validation Accuracy = 0.937\n",
      "Training Accuracy = 0.831\n",
      "\n",
      "EPOCH 78 ...\n",
      "Validation Accuracy = 0.950\n",
      "Training Accuracy = 0.935\n",
      "\n",
      "EPOCH 79 ...\n",
      "Validation Accuracy = 0.942\n",
      "Training Accuracy = 0.961\n",
      "\n",
      "EPOCH 80 ...\n",
      "Validation Accuracy = 0.949\n",
      "Training Accuracy = 0.753\n",
      "\n",
      "EPOCH 81 ...\n",
      "Validation Accuracy = 0.948\n",
      "Training Accuracy = 0.909\n",
      "\n",
      "EPOCH 82 ...\n",
      "Validation Accuracy = 0.944\n",
      "Training Accuracy = 1.000\n",
      "\n",
      "EPOCH 83 ...\n",
      "Validation Accuracy = 0.947\n",
      "Training Accuracy = 0.948\n",
      "\n",
      "EPOCH 84 ...\n",
      "Validation Accuracy = 0.944\n",
      "Training Accuracy = 0.948\n",
      "\n",
      "EPOCH 85 ...\n",
      "Validation Accuracy = 0.947\n",
      "Training Accuracy = 0.961\n",
      "\n",
      "EPOCH 86 ...\n",
      "Validation Accuracy = 0.938\n",
      "Training Accuracy = 0.818\n",
      "\n",
      "EPOCH 87 ...\n",
      "Validation Accuracy = 0.941\n",
      "Training Accuracy = 0.688\n",
      "\n",
      "EPOCH 88 ...\n",
      "Validation Accuracy = 0.950\n",
      "Training Accuracy = 0.987\n",
      "\n",
      "EPOCH 89 ...\n",
      "Validation Accuracy = 0.944\n",
      "Training Accuracy = 1.000\n",
      "\n",
      "EPOCH 90 ...\n",
      "Validation Accuracy = 0.932\n",
      "Training Accuracy = 0.636\n",
      "\n",
      "EPOCH 91 ...\n",
      "Validation Accuracy = 0.946\n",
      "Training Accuracy = 0.922\n",
      "\n",
      "EPOCH 92 ...\n",
      "Validation Accuracy = 0.931\n",
      "Training Accuracy = 0.987\n",
      "\n",
      "EPOCH 93 ...\n",
      "Validation Accuracy = 0.930\n",
      "Training Accuracy = 0.896\n",
      "\n",
      "EPOCH 94 ...\n",
      "Validation Accuracy = 0.950\n",
      "Training Accuracy = 0.714\n",
      "\n",
      "EPOCH 95 ...\n",
      "Validation Accuracy = 0.943\n",
      "Training Accuracy = 0.883\n",
      "\n",
      "EPOCH 96 ...\n",
      "Validation Accuracy = 0.935\n",
      "Training Accuracy = 0.909\n",
      "\n",
      "EPOCH 97 ...\n",
      "Validation Accuracy = 0.949\n",
      "Training Accuracy = 0.948\n",
      "\n",
      "EPOCH 98 ...\n",
      "Validation Accuracy = 0.946\n",
      "Training Accuracy = 0.922\n",
      "\n",
      "EPOCH 99 ...\n",
      "Validation Accuracy = 0.937\n",
      "Training Accuracy = 0.961\n",
      "\n",
      "EPOCH 100 ...\n",
      "Validation Accuracy = 0.942\n",
      "Training Accuracy = 0.922\n",
      "\n",
      "Model saved\n"
     ]
    }
   ],
   "source": [
    "# process training\n",
    "# x_input = x_input[:1000]\n",
    "# y_input = y_train[:1000]\n",
    "# load the data\n",
    "# from keras.preprocessing.image import ImageDataGenerator\n",
    "# datagen = ImageDataGenerator(\n",
    "#     featurewise_center=True,\n",
    "#     featurewise_std_normalization=True,\n",
    "#     rotation_range=20,\n",
    "#     width_shift_range=0.2,\n",
    "#     height_shift_range=0.2,\n",
    "#     horizontal_flip=True)\n",
    "with tf.Session() as sess:\n",
    "    sess.run(tf.global_variables_initializer())\n",
    "    num_examples = len(x_input)\n",
    "    print(\"样本总量：{}\".format(num_examples))\n",
    "    \n",
    "    print(\"Training...\")\n",
    "    print()\n",
    "    for i in range(EPOCHS):\n",
    "        x_input, y_train_combined = shuffle(x_input, y_train_combined)\n",
    "        for offset in range(0, num_examples, BATCH_SIZE):\n",
    "            end = offset + BATCH_SIZE\n",
    "            batch_x, batch_y = x_input[offset:end], y_train_combined[offset:end]\n",
    "            batch_x = process_batch(batch_x)\n",
    "            sess.run(training_operation, feed_dict={x: batch_x, y: batch_y, keep_prob: 0.5, is_train: True})\n",
    "        training_accurancy = evaluate(batch_x, batch_y)   \n",
    "        validation_accuracy = evaluate(x_valid, y_valid)\n",
    "        if(validation_accuracy > 0.96):\n",
    "            break\n",
    "        print(\"EPOCH {} ...\".format(i+1))\n",
    "        print(\"Validation Accuracy = {:.3f}\".format(validation_accuracy))\n",
    "        print(\"Training Accuracy = {:.3f}\".format(training_accurancy))\n",
    "        print()\n",
    "        \n",
    "    saver.save(sess, './lenet')\n",
    "    tf.add_to_collection('pred_network', logits)\n",
    "    print(\"Model saved\")"
   ]
  },
  {
   "cell_type": "code",
   "execution_count": 8,
   "metadata": {},
   "outputs": [],
   "source": [
    "## method ##\n",
    "import cv2\n",
    "import numpy as np\n",
    "def pre_process(x):\n",
    "    X_train_gray = []\n",
    "    for x_train in x:\n",
    "        x_train = cv2.cvtColor(x_train, cv2.COLOR_RGB2GRAY)\n",
    "        img = cv2.resize(x_train, (32,32), interpolation=cv2.INTER_CUBIC)\n",
    "        X_train_gray.append(img.reshape(32,32,1))\n",
    "    x_input = (np.float32(X_train_gray)-128) / 128\n",
    "    \n",
    "    return x_input"
   ]
  },
  {
   "cell_type": "code",
   "execution_count": 20,
   "metadata": {},
   "outputs": [
    {
     "name": "stdout",
     "output_type": "stream",
     "text": [
      "INFO:tensorflow:Restoring parameters from ./lenet\n",
      "training Accuracy = 0.962\n"
     ]
    }
   ],
   "source": [
    "import tensorflow as tf\n",
    "# x_test_pre = pre_process(X_test)\n",
    "with tf.Session() as sess:\n",
    "    sess.run(tf.global_variables_initializer())\n",
    "    new_saver = tf.train.import_meta_graph('./lenet.meta')\n",
    "    new_saver.restore(sess, tf.train.latest_checkpoint('./'))    \n",
    "    test_accuracy = evaluate(x_input, y_train_combined)\n",
    "    print(\"training Accuracy = {:.3f}\".format(test_accuracy))"
   ]
  },
  {
   "cell_type": "code",
   "execution_count": 12,
   "metadata": {},
   "outputs": [
    {
     "name": "stdout",
     "output_type": "stream",
     "text": [
      "INFO:tensorflow:Restoring parameters from ./lenet\n",
      "test Accuracy = 0.936\n"
     ]
    }
   ],
   "source": [
    "import tensorflow as tf\n",
    "x_test_pre = pre_process(X_test)\n",
    "with tf.Session() as sess:\n",
    "    sess.run(tf.global_variables_initializer())\n",
    "    new_saver = tf.train.import_meta_graph('./lenet.meta')\n",
    "    new_saver.restore(sess, tf.train.latest_checkpoint('./'))    \n",
    "    test_accuracy = evaluate(x_test_pre, y_test)\n",
    "    print(\"test Accuracy = {:.3f}\".format(test_accuracy))"
   ]
  },
  {
   "cell_type": "markdown",
   "metadata": {},
   "source": [
    "---\n",
    "\n",
    "## Step 3: Test a Model on New Images\n",
    "\n",
    "To give yourself more insight into how your model is working, download at least five pictures of German traffic signs from the web and use your model to predict the traffic sign type.\n",
    "\n",
    "You may find `signnames.csv` useful as it contains mappings from the class id (integer) to the actual sign name."
   ]
  },
  {
   "cell_type": "markdown",
   "metadata": {},
   "source": [
    "### Load and Output the Images"
   ]
  },
  {
   "cell_type": "code",
   "execution_count": 21,
   "metadata": {},
   "outputs": [],
   "source": [
    "## method ##\n",
    "import cv2\n",
    "import numpy as np\n",
    "def pre_process(x):\n",
    "    X_train_gray = []\n",
    "    for x_train in x:\n",
    "        x_train = cv2.cvtColor(x_train, cv2.COLOR_RGB2GRAY)\n",
    "        img = cv2.resize(x_train, (32,32), interpolation=cv2.INTER_CUBIC)\n",
    "        X_train_gray.append(img.reshape(32,32,1))\n",
    "    x_input = (np.float32(X_train_gray)-128) / 128\n",
    "    \n",
    "    return x_input"
   ]
  },
  {
   "cell_type": "code",
   "execution_count": 22,
   "metadata": {},
   "outputs": [
    {
     "data": {
      "image/png": "[encoded data removed]",
      "text/plain": [
       "<matplotlib.figure.Figure at 0x7fbb9fba0c18>"
      ]
     },
     "metadata": {
      "needs_background": "light"
     },
     "output_type": "display_data"
    }
   ],
   "source": [
    "### Load the images and plot them here.\n",
    "### Feel free to use as many code cells as needed.\n",
    "import matplotlib.pyplot as plt\n",
    "%matplotlib inline\n",
    "dir = \"./test_data/00043.ppm\"\n",
    "\n",
    "image = plt.imread(dir)\n",
    "plt.imshow(image)\n",
    "plt.show()"
   ]
  },
  {
   "cell_type": "code",
   "execution_count": 25,
   "metadata": {},
   "outputs": [
    {
     "name": "stdout",
     "output_type": "stream",
     "text": [
      "6\n"
     ]
    },
    {
     "data": {
      "image/png": "[encoded data removed]",
      "text/plain": [
       "<matplotlib.figure.Figure at 0x7fbbc3d711d0>"
      ]
     },
     "metadata": {
      "needs_background": "light"
     },
     "output_type": "display_data"
    }
   ],
   "source": [
    "import glob\n",
    "images = []\n",
    "labels = [25,26,18,30,7,24]\n",
    "for file in glob.glob(\"./test_data/*.ppm\"):\n",
    "    images.append(plt.imread(file))\n",
    "print(len(images))\n",
    "f, (ax1, ax2, ax3, ax4, ax5, ax6) = plt.subplots(1, 6, figsize = (24, 9))\n",
    "f.tight_layout()\n",
    "ax1.imshow(images[0])\n",
    "ax2.imshow(images[1])\n",
    "ax3.imshow(images[2])\n",
    "ax4.imshow(images[3])\n",
    "ax5.imshow(images[4])\n",
    "ax6.imshow(images[5])\n",
    "plt.show()\n",
    "test_inputs = pre_process(images)\n",
    "# print(np.array(test_inputs))"
   ]
  },
  {
   "cell_type": "code",
   "execution_count": 54,
   "metadata": {},
   "outputs": [],
   "source": [
    "def find_max_index(x):\n",
    "    index = 0\n",
    "    max_num = 0\n",
    "    for i, xi in enumerate(x):\n",
    "        if xi > max_num:\n",
    "            max_num = xi\n",
    "            index = i\n",
    "    return index\n",
    "# test\n",
    "# y = [1,2,5,3]\n",
    "# i = find_max_index(y)\n",
    "# print(i)\n",
    "    "
   ]
  },
  {
   "cell_type": "markdown",
   "metadata": {},
   "source": [
    "### Predict the Sign Type for Each Image"
   ]
  },
  {
   "cell_type": "code",
   "execution_count": 26,
   "metadata": {},
   "outputs": [
    {
     "name": "stdout",
     "output_type": "stream",
     "text": [
      "INFO:tensorflow:Restoring parameters from ./lenet\n",
      "6 Web images Accuracy = 0.833\n"
     ]
    }
   ],
   "source": [
    "### Run the predictions here and use the model to output the prediction for each image.\n",
    "### Make sure to pre-process the images with the same pre-processing pipeline used earlier.\n",
    "### Feel free to use as many code cells as needed.\n",
    "import tensorflow as tf\n",
    "\n",
    "with tf.Session() as sess:\n",
    "    sess.run(tf.global_variables_initializer())\n",
    "    new_saver = tf.train.import_meta_graph('./lenet.meta')\n",
    "    new_saver.restore(sess, tf.train.latest_checkpoint('./'))    \n",
    "    web_accuracy = evaluate(test_inputs, labels)\n",
    "    print(\"6 Web images Accuracy = {:.3f}\".format(web_accuracy))\n",
    "#     print(is_train)\n",
    "#     logits = sess.run(logit_soft, feed_dict={x: test_inputs, keep_prob:1.0, is_train:False})\n",
    "#     print(logits)\n",
    "\n",
    "\n",
    " \n"
   ]
  },
  {
   "cell_type": "markdown",
   "metadata": {},
   "source": [
    "### Analyze Performance"
   ]
  },
  {
   "cell_type": "code",
   "execution_count": 4,
   "metadata": {
    "collapsed": true
   },
   "outputs": [],
   "source": [
    "### Calculate the accuracy for these 5 new images. \n",
    "### For example, if the model predicted 1 out of 5 signs correctly, it's 20% accurate on these new images."
   ]
  },
  {
   "cell_type": "code",
   "execution_count": null,
   "metadata": {},
   "outputs": [],
   "source": []
  },
  {
   "cell_type": "markdown",
   "metadata": {},
   "source": [
    "### Output Top 5 Softmax Probabilities For Each Image Found on the Web"
   ]
  },
  {
   "cell_type": "markdown",
   "metadata": {},
   "source": [
    "For each of the new images, print out the model's softmax probabilities to show the **certainty** of the model's predictions (limit the output to the top 5 probabilities for each image). [`tf.nn.top_k`](https://www.tensorflow.org/versions/r0.12/api_docs/python/nn.html#top_k) could prove helpful here. \n",
    "\n",
    "The example below demonstrates how tf.nn.top_k can be used to find the top k predictions for each image.\n",
    "\n",
    "`tf.nn.top_k` will return the values and indices (class ids) of the top k predictions. So if k=3, for each sign, it'll return the 3 largest probabilities (out of a possible 43) and the correspoding class ids.\n",
    "\n",
    "Take this numpy array as an example. The values in the array represent predictions. The array contains softmax probabilities for five candidate images with six possible classes. `tf.nn.top_k` is used to choose the three classes with the highest probability:\n",
    "\n",
    "```\n",
    "# (5, 6) array\n",
    "a = np.array([[ 0.24879643,  0.07032244,  0.12641572,  0.34763842,  0.07893497,\n",
    "         0.12789202],\n",
    "       [ 0.28086119,  0.27569815,  0.08594638,  0.0178669 ,  0.18063401,\n",
    "         0.15899337],\n",
    "       [ 0.26076848,  0.23664738,  0.08020603,  0.07001922,  0.1134371 ,\n",
    "         0.23892179],\n",
    "       [ 0.11943333,  0.29198961,  0.02605103,  0.26234032,  0.1351348 ,\n",
    "         0.16505091],\n",
    "       [ 0.09561176,  0.34396535,  0.0643941 ,  0.16240774,  0.24206137,\n",
    "         0.09155967]])\n",
    "```\n",
    "\n",
    "Running it through `sess.run(tf.nn.top_k(tf.constant(a), k=3))` produces:\n",
    "\n",
    "```\n",
    "TopKV2(values=array([[ 0.34763842,  0.24879643,  0.12789202],\n",
    "       [ 0.28086119,  0.27569815,  0.18063401],\n",
    "       [ 0.26076848,  0.23892179,  0.23664738],\n",
    "       [ 0.29198961,  0.26234032,  0.16505091],\n",
    "       [ 0.34396535,  0.24206137,  0.16240774]]), indices=array([[3, 0, 5],\n",
    "       [0, 1, 4],\n",
    "       [0, 5, 1],\n",
    "       [1, 3, 5],\n",
    "       [1, 4, 3]], dtype=int32))\n",
    "```\n",
    "\n",
    "Looking just at the first row we get `[ 0.34763842,  0.24879643,  0.12789202]`, you can confirm these are the 3 largest probabilities in `a`. You'll also notice `[3, 0, 5]` are the corresponding indices."
   ]
  },
  {
   "cell_type": "code",
   "execution_count": 27,
   "metadata": {},
   "outputs": [
    {
     "name": "stdout",
     "output_type": "stream",
     "text": [
      "INFO:tensorflow:Restoring parameters from ./lenet\n",
      "TopKV2(values=array([[  9.99100804e-01,   5.95624908e-04,   9.32152761e-05,\n",
      "          8.69271316e-05,   5.13266459e-05],\n",
      "       [  9.99001563e-01,   7.54633686e-04,   8.06848548e-05,\n",
      "          4.99586713e-05,   4.34381400e-05],\n",
      "       [  9.91068482e-01,   8.92245304e-03,   9.05386787e-06,\n",
      "          5.96411498e-09,   2.31950473e-10],\n",
      "       [  9.69919443e-01,   2.56598108e-02,   3.15511064e-03,\n",
      "          5.98244136e-04,   3.26355890e-04],\n",
      "       [  4.40172762e-01,   3.44108880e-01,   1.59513384e-01,\n",
      "          4.69989963e-02,   4.41888766e-03],\n",
      "       [  9.91590738e-01,   7.09419930e-03,   6.46200671e-04,\n",
      "          3.57074256e-04,   1.72557062e-04]], dtype=float32), indices=array([[25, 22, 24, 20, 18],\n",
      "       [12, 38,  1,  2, 13],\n",
      "       [18, 26, 27, 24, 11],\n",
      "       [30, 11, 23, 31, 20],\n",
      "       [ 7,  8,  4,  5,  3],\n",
      "       [24, 18, 27, 29, 25]], dtype=int32))\n"
     ]
    }
   ],
   "source": [
    "### Print out the top five softmax probabilities for the predictions on the German traffic sign images found on the web. \n",
    "### Feel free to use as many code cells as needed.\n",
    "import tensorflow as tf\n",
    "logit_soft = tf.nn.softmax(logits)\n",
    "with tf.Session() as sess:\n",
    "    sess.run(tf.global_variables_initializer())\n",
    "    new_saver = tf.train.import_meta_graph('./lenet.meta')\n",
    "    new_saver.restore(sess, tf.train.latest_checkpoint('./'))  \n",
    "    logits = sess.run(logit_soft, feed_dict={x: test_inputs, keep_prob:1.0, is_train:False})\n",
    "#     probability = evaluate(test_inputs, labels)\n",
    "    probability = sess.run(tf.nn.top_k(tf.constant(logits), k=5))\n",
    "    print(probability)"
   ]
  },
  {
   "cell_type": "markdown",
   "metadata": {},
   "source": [
    "### Project Writeup\n",
    "\n",
    "Once you have completed the code implementation, document your results in a project writeup using this [template](https://github.com/udacity/CarND-Traffic-Sign-Classifier-Project/blob/master/writeup_template.md) as a guide. The writeup can be in a markdown or pdf file. "
   ]
  },
  {
   "cell_type": "markdown",
   "metadata": {},
   "source": [
    "> **Note**: Once you have completed all of the code implementations and successfully answered each question above, you may finalize your work by exporting the iPython Notebook as an HTML document. You can do this by using the menu above and navigating to  \\n\",\n",
    "    \"**File -> Download as -> HTML (.html)**. Include the finished document along with this notebook as your submission."
   ]
  },
  {
   "cell_type": "markdown",
   "metadata": {},
   "source": [
    "---\n",
    "\n",
    "## Step 4 (Optional): Visualize the Neural Network's State with Test Images\n",
    "\n",
    " This Section is not required to complete but acts as an additional excersise for understaning the output of a neural network's weights. While neural networks can be a great learning device they are often referred to as a black box. We can understand what the weights of a neural network look like better by plotting their feature maps. After successfully training your neural network you can see what it's feature maps look like by plotting the output of the network's weight layers in response to a test stimuli image. From these plotted feature maps, it's possible to see what characteristics of an image the network finds interesting. For a sign, maybe the inner network feature maps react with high activation to the sign's boundary outline or to the contrast in the sign's painted symbol.\n",
    "\n",
    " Provided for you below is the function code that allows you to get the visualization output of any tensorflow weight layer you want. The inputs to the function should be a stimuli image, one used during training or a new one you provided, and then the tensorflow variable name that represents the layer's state during the training process, for instance if you wanted to see what the [LeNet lab's](https://classroom.udacity.com/nanodegrees/nd013/parts/fbf77062-5703-404e-b60c-95b78b2f3f9e/modules/6df7ae49-c61c-4bb2-a23e-6527e69209ec/lessons/601ae704-1035-4287-8b11-e2c2716217ad/concepts/d4aca031-508f-4e0b-b493-e7b706120f81) feature maps looked like for it's second convolutional layer you could enter conv2 as the tf_activation variable.\n",
    "\n",
    "For an example of what feature map outputs look like, check out NVIDIA's results in their paper [End-to-End Deep Learning for Self-Driving Cars](https://devblogs.nvidia.com/parallelforall/deep-learning-self-driving-cars/) in the section Visualization of internal CNN State. NVIDIA was able to show that their network's inner weights had high activations to road boundary lines by comparing feature maps from an image with a clear path to one without. Try experimenting with a similar test to show that your trained network's weights are looking for interesting features, whether it's looking at differences in feature maps from images with or without a sign, or even what feature maps look like in a trained network vs a completely untrained one on the same sign image.\n",
    "\n",
    "<figure>\n",
    " <img src=\"visualize_cnn.png\" width=\"380\" alt=\"Combined Image\" />\n",
    " <figcaption>\n",
    " <p></p> \n",
    " <p style=\"text-align: center;\"> Your output should look something like this (above)</p> \n",
    " </figcaption>\n",
    "</figure>\n",
    " <p></p> \n"
   ]
  },
  {
   "cell_type": "code",
   "execution_count": null,
   "metadata": {
    "collapsed": true
   },
   "outputs": [],
   "source": [
    "### Visualize your network's feature maps here.\n",
    "### Feel free to use as many code cells as needed.\n",
    "\n",
    "# image_input: the test image being fed into the network to produce the feature maps\n",
    "# tf_activation: should be a tf variable name used during your training procedure that represents the calculated state of a specific weight layer\n",
    "# activation_min/max: can be used to view the activation contrast in more detail, by default matplot sets min and max to the actual min and max values of the output\n",
    "# plt_num: used to plot out multiple different weight feature map sets on the same block, just extend the plt number for each new feature map entry\n",
    "\n",
    "def outputFeatureMap(image_input, tf_activation, activation_min=-1, activation_max=-1 ,plt_num=1):\n",
    "    # Here make sure to preprocess your image_input in a way your network expects\n",
    "    # with size, normalization, ect if needed\n",
    "    # image_input =\n",
    "    # Note: x should be the same name as your network's tensorflow data placeholder variable\n",
    "    # If you get an error tf_activation is not defined it may be having trouble accessing the variable from inside a function\n",
    "    activation = tf_activation.eval(session=sess,feed_dict={x : image_input})\n",
    "    featuremaps = activation.shape[3]\n",
    "    plt.figure(plt_num, figsize=(15,15))\n",
    "    for featuremap in range(featuremaps):\n",
    "        plt.subplot(6,8, featuremap+1) # sets the number of feature maps to show on each row and column\n",
    "        plt.title('FeatureMap ' + str(featuremap)) # displays the feature map number\n",
    "        if activation_min != -1 & activation_max != -1:\n",
    "            plt.imshow(activation[0,:,:, featuremap], interpolation=\"nearest\", vmin =activation_min, vmax=activation_max, cmap=\"gray\")\n",
    "        elif activation_max != -1:\n",
    "            plt.imshow(activation[0,:,:, featuremap], interpolation=\"nearest\", vmax=activation_max, cmap=\"gray\")\n",
    "        elif activation_min !=-1:\n",
    "            plt.imshow(activation[0,:,:, featuremap], interpolation=\"nearest\", vmin=activation_min, cmap=\"gray\")\n",
    "        else:\n",
    "            plt.imshow(activation[0,:,:, featuremap], interpolation=\"nearest\", cmap=\"gray\")"
   ]
  },
  {
   "cell_type": "code",
   "execution_count": null,
   "metadata": {},
   "outputs": [],
   "source": []
  }
 ],
 "metadata": {
  "anaconda-cloud": {},
  "kernelspec": {
   "display_name": "Python 3",
   "language": "python",
   "name": "python3"
  },
  "language_info": {
   "codemirror_mode": {
    "name": "ipython",
    "version": 3
   },
   "file_extension": ".py",
   "mimetype": "text/x-python",
   "name": "python",
   "nbconvert_exporter": "python",
   "pygments_lexer": "ipython3",
   "version": "3.6.3"
  }
 },
 "nbformat": 4,
 "nbformat_minor": 1
}
